{
 "cells": [
  {
   "cell_type": "code",
   "execution_count": 1,
   "metadata": {},
   "outputs": [],
   "source": [
    "import cv2"
   ]
  },
  {
   "cell_type": "code",
   "execution_count": 2,
   "metadata": {},
   "outputs": [],
   "source": [
    "img_g = cv2.imread(\"smallgray.png\", 0)   # reading image to variable, 0: grayscale, 1: color (bgr)"
   ]
  },
  {
   "cell_type": "code",
   "execution_count": 3,
   "metadata": {},
   "outputs": [
    {
     "data": {
      "text/plain": [
       "array([[187, 158, 104, 121, 143],\n",
       "       [198, 125, 255, 255, 147],\n",
       "       [209, 134, 255,  97, 182]], dtype=uint8)"
      ]
     },
     "execution_count": 3,
     "metadata": {},
     "output_type": "execute_result"
    }
   ],
   "source": [
    "img_g"
   ]
  },
  {
   "cell_type": "code",
   "execution_count": 4,
   "metadata": {},
   "outputs": [
    {
     "data": {
      "text/plain": [
       "True"
      ]
     },
     "execution_count": 4,
     "metadata": {},
     "output_type": "execute_result"
    }
   ],
   "source": [
    "cv2.imwrite(\"new_smallgray.png\", img_g)  # writing the array into a new image"
   ]
  },
  {
   "cell_type": "code",
   "execution_count": 5,
   "metadata": {},
   "outputs": [
    {
     "data": {
      "text/plain": [
       "array([[187, 158, 104, 121, 143],\n",
       "       [198, 125, 255, 255, 147]], dtype=uint8)"
      ]
     },
     "execution_count": 5,
     "metadata": {},
     "output_type": "execute_result"
    }
   ],
   "source": [
    "img_g[0:2]  # get the first 2 rows"
   ]
  },
  {
   "cell_type": "code",
   "execution_count": 6,
   "metadata": {},
   "outputs": [
    {
     "data": {
      "text/plain": [
       "array([[104, 121],\n",
       "       [255, 255]], dtype=uint8)"
      ]
     },
     "execution_count": 6,
     "metadata": {},
     "output_type": "execute_result"
    }
   ],
   "source": [
    "img_g[0:2, 2:4]  # get the first 2 rows, and from them columns (index) 2 and 3 (4 excluded)"
   ]
  },
  {
   "cell_type": "code",
   "execution_count": 7,
   "metadata": {},
   "outputs": [
    {
     "data": {
      "text/plain": [
       "125"
      ]
     },
     "execution_count": 7,
     "metadata": {},
     "output_type": "execute_result"
    }
   ],
   "source": [
    "img_g[1,1]  # get one item, 2nd row, 2nd column (indexes)"
   ]
  },
  {
   "cell_type": "code",
   "execution_count": 8,
   "metadata": {},
   "outputs": [
    {
     "name": "stdout",
     "output_type": "stream",
     "text": [
      "[187 158 104 121 143]\n",
      "[198 125 255 255 147]\n",
      "[209 134 255  97 182]\n"
     ]
    }
   ],
   "source": [
    "# iterating through the array\n",
    "# iterate by rows: \n",
    "for i in img_g:\n",
    "    print(i)"
   ]
  },
  {
   "cell_type": "code",
   "execution_count": 9,
   "metadata": {},
   "outputs": [
    {
     "name": "stdout",
     "output_type": "stream",
     "text": [
      "[187 198 209]\n",
      "[158 125 134]\n",
      "[104 255 255]\n",
      "[121 255  97]\n",
      "[143 147 182]\n"
     ]
    }
   ],
   "source": [
    "# iterate by columns (by transpose .T):\n",
    "for i in img_g.T:\n",
    "    print(i)"
   ]
  },
  {
   "cell_type": "code",
   "execution_count": 11,
   "metadata": {},
   "outputs": [
    {
     "name": "stdout",
     "output_type": "stream",
     "text": [
      "187\n",
      "158\n",
      "104\n",
      "121\n",
      "143\n",
      "198\n",
      "125\n",
      "255\n",
      "255\n",
      "147\n",
      "209\n",
      "134\n",
      "255\n",
      "97\n",
      "182\n"
     ]
    }
   ],
   "source": [
    "# iterate by each item:\n",
    "for i in img_g.flat:\n",
    "    print(i)"
   ]
  },
  {
   "cell_type": "code",
   "execution_count": 12,
   "metadata": {},
   "outputs": [
    {
     "data": {
      "text/plain": [
       "array([[187, 158, 104, 121, 143],\n",
       "       [198, 125, 255, 255, 147],\n",
       "       [209, 134, 255,  97, 182]], dtype=uint8)"
      ]
     },
     "execution_count": 12,
     "metadata": {},
     "output_type": "execute_result"
    }
   ],
   "source": [
    "img_g"
   ]
  },
  {
   "cell_type": "code",
   "execution_count": 15,
   "metadata": {},
   "outputs": [
    {
     "name": "stdout",
     "output_type": "stream",
     "text": [
      "[[187 158 104 121 143 187 158 104 121 143]\n",
      " [198 125 255 255 147 198 125 255 255 147]\n",
      " [209 134 255  97 182 209 134 255  97 182]]\n"
     ]
    }
   ],
   "source": [
    "import numpy\n",
    "# horizontal stacking - hstack, using a tuple as parameter\n",
    "img_hs = numpy.hstack((img_g, img_g))  # saving to new variable, tuple could contain different arrays\n",
    "print(img_hs)"
   ]
  },
  {
   "cell_type": "code",
   "execution_count": 17,
   "metadata": {},
   "outputs": [
    {
     "name": "stdout",
     "output_type": "stream",
     "text": [
      "[[187 158 104 121 143]\n",
      " [198 125 255 255 147]\n",
      " [209 134 255  97 182]\n",
      " [187 158 104 121 143]\n",
      " [198 125 255 255 147]\n",
      " [209 134 255  97 182]\n",
      " [187 158 104 121 143]\n",
      " [198 125 255 255 147]\n",
      " [209 134 255  97 182]]\n"
     ]
    }
   ],
   "source": [
    "# vertical stacking - vstack, using a tuple as parameter\n",
    "img_vs = numpy.vstack((img_g, img_g, img_g))  # saving to new variable, tuple could contain different arrays\n",
    "print(img_vs)"
   ]
  },
  {
   "cell_type": "code",
   "execution_count": 19,
   "metadata": {},
   "outputs": [
    {
     "name": "stdout",
     "output_type": "stream",
     "text": [
      "[array([[187],\n",
      "       [198],\n",
      "       [209],\n",
      "       [187],\n",
      "       [198],\n",
      "       [209],\n",
      "       [187],\n",
      "       [198],\n",
      "       [209]], dtype=uint8), array([[158],\n",
      "       [125],\n",
      "       [134],\n",
      "       [158],\n",
      "       [125],\n",
      "       [134],\n",
      "       [158],\n",
      "       [125],\n",
      "       [134]], dtype=uint8), array([[104],\n",
      "       [255],\n",
      "       [255],\n",
      "       [104],\n",
      "       [255],\n",
      "       [255],\n",
      "       [104],\n",
      "       [255],\n",
      "       [255]], dtype=uint8), array([[121],\n",
      "       [255],\n",
      "       [ 97],\n",
      "       [121],\n",
      "       [255],\n",
      "       [ 97],\n",
      "       [121],\n",
      "       [255],\n",
      "       [ 97]], dtype=uint8), array([[143],\n",
      "       [147],\n",
      "       [182],\n",
      "       [143],\n",
      "       [147],\n",
      "       [182],\n",
      "       [143],\n",
      "       [147],\n",
      "       [182]], dtype=uint8)]\n",
      "[[187]\n",
      " [198]\n",
      " [209]\n",
      " [187]\n",
      " [198]\n",
      " [209]\n",
      " [187]\n",
      " [198]\n",
      " [209]]\n"
     ]
    }
   ],
   "source": [
    "# spliting horizontally - by columns\n",
    "# hsplit, the last parameter is divisor, the results must be same size (columns % number = 0)\n",
    "h_split = numpy.hsplit(img_vs, 5)   # the result will be a python list of numpy arrays\n",
    "print(h_split)\n",
    "print(h_split[0])  # can reach each splitted array by indexing"
   ]
  },
  {
   "cell_type": "code",
   "execution_count": 20,
   "metadata": {},
   "outputs": [
    {
     "name": "stdout",
     "output_type": "stream",
     "text": [
      "[array([[187, 158, 104, 121, 143],\n",
      "       [198, 125, 255, 255, 147],\n",
      "       [209, 134, 255,  97, 182]], dtype=uint8), array([[187, 158, 104, 121, 143],\n",
      "       [198, 125, 255, 255, 147],\n",
      "       [209, 134, 255,  97, 182]], dtype=uint8), array([[187, 158, 104, 121, 143],\n",
      "       [198, 125, 255, 255, 147],\n",
      "       [209, 134, 255,  97, 182]], dtype=uint8)]\n",
      "[[187 158 104 121 143]\n",
      " [198 125 255 255 147]\n",
      " [209 134 255  97 182]]\n"
     ]
    }
   ],
   "source": [
    "# spliting vertically - by rows\n",
    "# vsplit, the last parameter is divisor, the results must be same size (rows % number = 0)\n",
    "v_split = numpy.vsplit(img_vs, 3)   # the result will be a python list of numpy arrays\n",
    "print(v_split)\n",
    "print(v_split[0])  # can reach each splitted array by indexing"
   ]
  },
  {
   "cell_type": "code",
   "execution_count": null,
   "metadata": {},
   "outputs": [],
   "source": []
  }
 ],
 "metadata": {
  "kernelspec": {
   "display_name": "Python 3",
   "language": "python",
   "name": "python3"
  },
  "language_info": {
   "codemirror_mode": {
    "name": "ipython",
    "version": 3
   },
   "file_extension": ".py",
   "mimetype": "text/x-python",
   "name": "python",
   "nbconvert_exporter": "python",
   "pygments_lexer": "ipython3",
   "version": "3.7.0"
  }
 },
 "nbformat": 4,
 "nbformat_minor": 2
}
